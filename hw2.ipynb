{
 "cells": [
  {
   "cell_type": "code",
   "execution_count": 1,
   "id": "14b7f783",
   "metadata": {},
   "outputs": [
    {
     "data": {
      "text/plain": [
       "0.6693"
      ]
     },
     "execution_count": 1,
     "metadata": {},
     "output_type": "execute_result"
    }
   ],
   "source": [
    "#Question 3\n",
    "import numpy as np\n",
    "\n",
    "# Set up simulation parameters\n",
    "reps = 100000  # number of repetitions\n",
    "wins = 0       # track number of wins\n",
    "\n",
    "for _ in range(reps):\n",
    "    # Randomly choose the winning door and player's initial choice\n",
    "    winning_door = np.random.choice([1, 2, 3])\n",
    "    initial_choice = np.random.choice([1, 2, 3])\n",
    "    \n",
    "    # Player will always switch, so find the door to switch to\n",
    "    remaining_doors = [door for door in [1, 2, 3] if door != initial_choice]\n",
    "    \n",
    "    # Monty opens a door (goat) that isn't the winning door or player's choice\n",
    "    goat_door = np.random.choice([door for door in remaining_doors if door != winning_door])\n",
    "    \n",
    "    # Switch to the only remaining unopened door\n",
    "    switched_choice = [door for door in [1, 2, 3] if door != initial_choice and door != goat_door][0]\n",
    "    \n",
    "    # Check if the switch results in a win\n",
    "    if switched_choice == winning_door:\n",
    "        wins += 1\n",
    "\n",
    "# Output the probability of winning by switching\n",
    "win_probability = wins / reps\n",
    "win_probability\n"
   ]
  },
  {
   "cell_type": "code",
   "execution_count": 2,
   "id": "3dd664df",
   "metadata": {},
   "outputs": [],
   "source": [
    "# Chatbot summery for question 1,2 and 3\n",
    "# Initial Query: You provided a code snippet and asked what it was trying to do.\n",
    "# Code Explanation: The code simulates the Monty Hall problem by running a simulation to determine the probability of winning if you always switch your initial door choice. The key steps involve choosing a winning door, revealing a losing door, switching to the remaining door, and tracking wins.\n",
    "# Improved Code: I provided a streamlined version of the code to make it easier to understand. The simplified version uses list comprehensions and clearer steps to simulate the Monty Hall problem and calculate the probability of winning by switching."
   ]
  },
  {
   "cell_type": "code",
   "execution_count": 3,
   "id": "c2a1b55b",
   "metadata": {},
   "outputs": [],
   "source": [
    "# Chatbot summery for question 4\n",
    "    # Markovian Chatbot Overview:\n",
    "    # A Markovian chatbot uses a Markov chain to generate text by predicting the next word based on the current word, relying solely on word sequences rather than deeper context.\n",
    "    # The chatbot is trained on a text corpus to learn the frequency of word transitions.\n",
    "# Code Explanation:\n",
    "    # Your code snippet builds two dictionaries: word_used for counting word occurrences, and next_word for tracking how frequently words follow other words.\n",
    "# Generating Responses:\n",
    "    # I provided a simple example of generating text based on the trained model, using probabilities to choose the next word.\n",
    "# Limitations:\n",
    "    # Markovian chatbots are limited in their ability to understand context beyond immediate word sequences and might produce repetitive or nonsensical outputs."
   ]
  },
  {
   "cell_type": "code",
   "execution_count": 4,
   "id": "61089955",
   "metadata": {},
   "outputs": [],
   "source": [
    "# Chatbot summery for question 5, part 1\n",
    "# Markovian Chatbot Overview:\n",
    "    # A Markovian chatbot generates text by predicting the next word based on the current word using a Markov chain model.\n",
    "# Code Extensions:\n",
    "    # Extension #1: Updates the model to use bigrams (two-word sequences) instead of single words, improving the coherence of generated text.\n",
    "    # Extension #2: Adds a character-based dimension to the model, allowing text generation specific to different characters from a dataset. This involves using nested dictionaries to track word sequences and their transitions for each character.\n",
    "# Code Details:\n",
    "    # Extension #1: Enhances the Markov model to consider pairs of consecutive words, updating the count of bigrams and their following words.\n",
    "# Extension #2: Integrates character-specific text generation by adding a character context to the bigram and next-word tracking.\n",
    "# len(words) == 1:\n",
    "    #This checks if the words list contains only one element. It helps determine whether to use a single word or construct a bigram from the last two words of a list."
   ]
  },
  {
   "cell_type": "code",
   "execution_count": 5,
   "id": "28bf208c",
   "metadata": {},
   "outputs": [],
   "source": [
    "# Chatbot summery for question 5, part 2\n",
    "# Markovian ChatBot Code:\n",
    "    # You provided code for a Markovian chatbot that uses word_used and next_word dictionaries to track word frequencies and transitions.\n",
    "    # I suggested normalizing the word transition counts to probabilities and provided an example of generating text based on these probabilities.\n",
    "# Expanded Model:\n",
    "    # You shared additional code where you are tracking word sequences and frequencies for different characters using nested dictionaries.\n",
    "    # You also mentioned using a dataset column for character-specific modeling and provided code that handles word sequences based on character contexts.\n",
    "# Suggestions:\n",
    "    # Normalization: Normalize frequencies to probabilities for better text generation.\n",
    "    # Text Generation: Create functions for generating text based on character-specific models.\n",
    "    # Optimization: Consider optimizing data structures for large datasets.\n",
    "# Example Code:\n",
    "    # I provided an example of how to calculate probabilities for nested dictionaries and generate text based on character-specific data."
   ]
  },
  {
   "cell_type": "code",
   "execution_count": null,
   "id": "8420e976",
   "metadata": {},
   "outputs": [],
   "source": [
    "# Question 6\n",
    "# 1. Discuss how quickly the ChatBot was able to be helpful for each of the above questions, and if so, how?\n",
    "    # For the above questions, the chatbot was rather efficient in helping me, however despite the fact that the answer I wanted was in the chat bots answer, it was within other information I did not need, so I then spend time reading through the long responce looking for what I actually need. \n",
    "# 2. Discuss whether or not interacting with ChatBot to try to figure things out was frustrating or unhelpful, and if so, how?\n",
    "    # Interacting with the chatbot was occasionally frustrating, specifically when it gives me an explination rather than interacting with me in a conversational form. \n",
    "# 3. Based on your experiences to date (e.g., including using ChatBots to troubleshoot coding errors in the previous homework), provide an overall assessment evaluating the usefulness of ChatBots as tools to help you understand code?\n",
    "    # Chatbots are an overall good way to learn code for a few reasons. First, it gives you multiple prospective or explanations, compared to a human who usally only has their own explination. Also, chatbots have the ability to give you a direct answer rather than a large amount of answers you then have to sift through. Therefor, chatbots have slight flaws as well, however they often offer better help than a classmate or google."
   ]
  },
  {
   "cell_type": "code",
   "execution_count": 6,
   "id": "f53338ea",
   "metadata": {},
   "outputs": [],
   "source": [
    "# Question 7\n",
    "# Before this course I only had previously used a chatbot to give me prompts for writting tasks or answers to chemistry questions. \n",
    "# However, sinc starting this course I have been using a chatbot to guied me a code I am trying to write as well as teach me how certin function will affect my code.\n",
    "# Overall, in the last two weeks my chatbot abilities have improved gratly but I am sure there are infinite purposes I will use a chatbot for in the futer."
   ]
  },
  {
   "cell_type": "code",
   "execution_count": 7,
   "id": "86373be5",
   "metadata": {},
   "outputs": [],
   "source": [
    "# Chatbot summery for question 8 \n",
    "# In our chat, we discussed the relevance of key skills in today's world, particularly in the context of the data science industry. We covered:\n",
    "    # Learning and Adaptability: Essential for keeping up with rapid changes in technology.\n",
    "    # Communication: Important for conveying complex findings to non-technical stakeholders.\n",
    "    # Coding: Crucial for implementing algorithms and processing data.\n",
    "    # Statistics and Data Analysis: Fundamental for interpreting data and making predictions.\n",
    "# We also explored whether one could be a statistician or data scientist without coding or data analysis, concluding that these skills are foundational to both roles.\n",
    "# Finally, we focused on the most useful skills for a career as an actuary, highlighting the importance of mathematics, data analysis, financial acumen, programming skills, problem-solving, communication, attention to detail, regulatory knowledge, and business acumen."
   ]
  },
  {
   "cell_type": "code",
   "execution_count": 8,
   "id": "90c1ef55",
   "metadata": {},
   "outputs": [],
   "source": [
    "# Question 8, part 4\n",
    "# My plan going into university was to be an actuary, this has not changed. \n",
    "# I did becom hesitant when I went to first sta130 lecture and understood very little. \n",
    "# However, working throught he last two homework assignments I have been able to work my way to understanding how our codes work. \n",
    "# The chatbot conversation I had confirmed my thoughts on my pottential futer career.  "
   ]
  },
  {
   "cell_type": "code",
   "execution_count": null,
   "id": "f458189b",
   "metadata": {},
   "outputs": [],
   "source": [
    "# Question 8, part 5\n",
    "# The conversation i gad with the chatbot was helpful to understand the actary career in general. \n",
    "# However, the chatbot is limited by the fact that it has never experienced the career at hand. \n",
    "# Therfor, the chatbot reponce is less detailed and more general which may be a pro or con, depending what you are looking for. \n",
    "# Finaly, if I were to continue the conversation, I would ask for cases in which I would use the skills needed for my futur career. "
   ]
  }
 ],
 "metadata": {
  "kernelspec": {
   "display_name": "Python 3 (ipykernel)",
   "language": "python",
   "name": "python3"
  },
  "language_info": {
   "codemirror_mode": {
    "name": "ipython",
    "version": 3
   },
   "file_extension": ".py",
   "mimetype": "text/x-python",
   "name": "python",
   "nbconvert_exporter": "python",
   "pygments_lexer": "ipython3",
   "version": "3.11.6"
  }
 },
 "nbformat": 4,
 "nbformat_minor": 5
}
